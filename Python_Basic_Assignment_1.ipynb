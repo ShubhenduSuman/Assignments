{
 "cells": [
  {
   "cell_type": "raw",
   "id": "676f2854",
   "metadata": {},
   "source": [
    "Q1). In the below elements which of them are values or an expression? eg:- values can be integer or string and expressions will be mathematical operators.\n",
    "* \n",
    "'hello'\n",
    "-87.8\n",
    "- \n",
    "/ \n",
    "+\n",
    "6 \n",
    "\n",
    "\n",
    "Ans:\n",
    "\n",
    "*                -- Expression\n",
    "'hello'          -- Value\n",
    "-87.8            -- Value\n",
    "-                -- Expression\n",
    "/                -- Expression\n",
    "+                -- Expression\n",
    "6                -- Value"
   ]
  },
  {
   "cell_type": "raw",
   "id": "a6538645",
   "metadata": {},
   "source": [
    "Q2). What is the difference between string and variable?\n",
    "\n",
    "Ans:\n",
    "\n",
    "# String is a datatype but Variable is something which is used to store the datatype.\n",
    "# String is a value representing text while Variable is a name that refers to any value.\n",
    "# Any data within quotation mark(\"\"/'') is considered as a string whereas a name equal to(=) to any data is considered as a variable.\n",
    "\n",
    "Ex: 'hello' is string; \n",
    "    a = 'hello', Here 'a' is a variable which is used to store a string."
   ]
  },
  {
   "cell_type": "raw",
   "id": "9b013260",
   "metadata": {},
   "source": [
    "Q3). Describe three different data types?\n",
    "\n",
    "Ans:\n",
    "\n",
    "String: A string is a collection of one or more characters put into a quotation mark(''/\"\"). String is an immutable object which means their contents cannot be altered once created.\n",
    "    \n",
    "List: Lists are used to store multiple items in a single variable. It can be created using square brackets([]). It is a mutable object. List items are ordered, changable and allow duplicate values.\n",
    "\n",
    "Dictionary: Dictionaries are used to store data in key:value pairs. It is written within curly braces({}) having keys and values. Dictionary is an ordered, changable and mutable object but doesnot allow duplicates. \n"
   ]
  },
  {
   "cell_type": "raw",
   "id": "a69733d2",
   "metadata": {},
   "source": [
    "Q4). What is an expression made up of? What do all expressions do?\n",
    "\n",
    "Ans:\n",
    "    \n",
    "An expression is any legal combination of symbols (like a variable, constants, and operators) representing a value. An expression must have at least one operand (variable or constant) and have one or more operators. After evaluating an expression, we get a value.\n",
    "\n",
    "Expressions are representations of value. An expression is a combination of operators and operands that is interpreted to produce some other value. In any programming language, an expression is evaluated as per the precedence of its operators. So that if there is more than one operator in an expression, their precedence decides which operation will be performed first. "
   ]
  },
  {
   "cell_type": "raw",
   "id": "f822f5e1",
   "metadata": {},
   "source": [
    "Q5). This assignment statements, like spam = 10. What is the difference between an expression and a statement?\n",
    "\n",
    "Ans:\n",
    "    \n",
    "Statements represent an action or command like print statements, assignment statements. Ex: print('Hello'), a = 4\n",
    "\n",
    "Expression is a combination of variables, operations and values that yields a result value. Ex: 5*6, 9/2"
   ]
  },
  {
   "cell_type": "raw",
   "id": "13f0b09e",
   "metadata": {},
   "source": [
    "Q6). After running the following code, what does the variable bacon contain?\n",
    "bacon = 22\n",
    "bacon + 1\n",
    "\n",
    "Ans:"
   ]
  },
  {
   "cell_type": "code",
   "execution_count": 5,
   "id": "02a3e1dc",
   "metadata": {},
   "outputs": [
    {
     "data": {
      "text/plain": [
       "22"
      ]
     },
     "execution_count": 5,
     "metadata": {},
     "output_type": "execute_result"
    }
   ],
   "source": [
    "bacon = 22\n",
    "bacon + 1\n",
    "\n",
    "bacon"
   ]
  },
  {
   "cell_type": "raw",
   "id": "352e9225",
   "metadata": {},
   "source": [
    "Q7). What should the values of the following two terms be?\n",
    "'spam' + 'spamspam'\n",
    "'spam' * 3\n",
    "\n",
    "Ans:"
   ]
  },
  {
   "cell_type": "code",
   "execution_count": 6,
   "id": "7a2f447c",
   "metadata": {},
   "outputs": [
    {
     "data": {
      "text/plain": [
       "'spamspamspam'"
      ]
     },
     "execution_count": 6,
     "metadata": {},
     "output_type": "execute_result"
    }
   ],
   "source": [
    "'spam'+'spamspam'"
   ]
  },
  {
   "cell_type": "code",
   "execution_count": 7,
   "id": "18f39285",
   "metadata": {},
   "outputs": [
    {
     "data": {
      "text/plain": [
       "'spamspamspam'"
      ]
     },
     "execution_count": 7,
     "metadata": {},
     "output_type": "execute_result"
    }
   ],
   "source": [
    "'spam'*3"
   ]
  },
  {
   "cell_type": "raw",
   "id": "f78f303b",
   "metadata": {},
   "source": [
    "Q8). Why is eggs a valid variable name while 100 is invalid?\n",
    "\n",
    "Ans:\n",
    "    \n",
    "A variable must start with a letter or the underscore character, it cannot start with a number. That's why eggs is a valid varibale name while 100 is invalid."
   ]
  },
  {
   "cell_type": "raw",
   "id": "30233814",
   "metadata": {},
   "source": [
    "Q9). What three functions can be used to get the integer, floating-point number, or string version of a value?\n",
    "\n",
    "Ans:\n",
    "\n",
    "for integer version of the value = int(value)\n",
    "for float version of the value = float(value)\n",
    "for string verion of the value = str(value)"
   ]
  },
  {
   "cell_type": "code",
   "execution_count": 10,
   "id": "61b1b6a6",
   "metadata": {},
   "outputs": [
    {
     "data": {
      "text/plain": [
       "(int, float, str)"
      ]
     },
     "execution_count": 10,
     "metadata": {},
     "output_type": "execute_result"
    }
   ],
   "source": [
    "a = 5.6\n",
    "\n",
    "a_int = int(a)\n",
    "a_float = float(a)\n",
    "a_str = str(a)\n",
    "\n",
    "type(a_int), type(a_float), type(a_str)"
   ]
  },
  {
   "cell_type": "raw",
   "id": "cbf35d0c",
   "metadata": {},
   "source": [
    "10. Why does this expression cause an error? How can you fix it?\n",
    "'I have eaten ' + 99 + ' burritos.'\n",
    "\n",
    "Ans:\n",
    "    \n",
    "The error is because we cannot concatenate string value to integer value. To perform the operation, use typecasting of integer value 99 to string."
   ]
  },
  {
   "cell_type": "code",
   "execution_count": 11,
   "id": "c9b9e824",
   "metadata": {},
   "outputs": [
    {
     "name": "stdout",
     "output_type": "stream",
     "text": [
      "I have eaten 99 burritos.\n"
     ]
    }
   ],
   "source": [
    "print('I have eaten ' + str(99) + ' burritos.')"
   ]
  },
  {
   "cell_type": "code",
   "execution_count": null,
   "id": "00668e98",
   "metadata": {},
   "outputs": [],
   "source": []
  }
 ],
 "metadata": {
  "kernelspec": {
   "display_name": "Python 3 (ipykernel)",
   "language": "python",
   "name": "python3"
  },
  "language_info": {
   "codemirror_mode": {
    "name": "ipython",
    "version": 3
   },
   "file_extension": ".py",
   "mimetype": "text/x-python",
   "name": "python",
   "nbconvert_exporter": "python",
   "pygments_lexer": "ipython3",
   "version": "3.9.7"
  }
 },
 "nbformat": 4,
 "nbformat_minor": 5
}
