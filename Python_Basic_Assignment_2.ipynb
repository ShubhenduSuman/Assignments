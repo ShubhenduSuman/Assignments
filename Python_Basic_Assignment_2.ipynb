{
 "cells": [
  {
   "cell_type": "markdown",
   "id": "6e532464",
   "metadata": {},
   "source": [
    "# Q1). What are the two values of the Boolean data type? How do you write them?"
   ]
  },
  {
   "cell_type": "markdown",
   "id": "70e76573",
   "metadata": {},
   "source": [
    "Ans: Two Values of Boolean data type are True and False.\n",
    "\n",
    "The values are written as:\n",
    "\n",
    "a = True\n",
    "\n",
    "b = False\n"
   ]
  },
  {
   "cell_type": "markdown",
   "id": "3fd6d081",
   "metadata": {},
   "source": [
    "# Q2). What are the three different types of Boolean operators?"
   ]
  },
  {
   "cell_type": "markdown",
   "id": "e7a51c3e",
   "metadata": {},
   "source": [
    "Ans:Three different types of Boolean operators are:\n",
    "\n",
    "And operator :- It represents multiplication.\n",
    "\n",
    "Or operator :- It represents addition.\n",
    "\n",
    "Not operator :- It repesents reverse of calculated value. Ex:- \"not even\" will give output of odd values.\n"
   ]
  },
  {
   "cell_type": "markdown",
   "id": "8672a3b0",
   "metadata": {},
   "source": [
    "# Q3). Make a list of each Boolean operator's truth tables (i.e. every possible combination of Boolean values for the operator and what it evaluate ).\n",
    "\n",
    "Ans:"
   ]
  },
  {
   "cell_type": "code",
   "execution_count": 15,
   "id": "aaa5c6bb",
   "metadata": {},
   "outputs": [
    {
     "name": "stdout",
     "output_type": "stream",
     "text": [
      "\n",
      "The AND operator Truth Table:\n",
      " A  B AandB\n",
      "[0, 0, 0]\n",
      "[0, 1, 0]\n",
      "[1, 0, 0]\n",
      "[1, 1, 1]\n",
      "\n",
      "The OR operator Truth Table:\n",
      " A  B AorB\n",
      "[0, 0, 0]\n",
      "[0, 1, 1]\n",
      "[1, 0, 1]\n",
      "[1, 1, 1]\n",
      "\n",
      "The Not operator Truth Table:\n",
      " A notA\n",
      "[0, 1]\n",
      "[1, 0]\n"
     ]
    }
   ],
   "source": [
    "and_lst = [[0,0,0], [0,1,0], [1,0,0], [1,1,1]]\n",
    "print('\\nThe AND operator Truth Table:')\n",
    "print(' A  B AandB')\n",
    "for i in and_lst:\n",
    "    print(i)\n",
    "    \n",
    "or_lst = [[0,0,0], [0,1,1], [1,0,1], [1,1,1]]\n",
    "print('\\nThe OR operator Truth Table:')\n",
    "print(' A  B AorB')\n",
    "for i in or_lst:\n",
    "    print(i)\n",
    "    \n",
    "not_lst = [[0,1],[1,0]]\n",
    "print('\\nThe Not operator Truth Table:')\n",
    "print(' A notA')\n",
    "for i in not_lst:\n",
    "    print(i)"
   ]
  },
  {
   "cell_type": "markdown",
   "id": "d8a54968",
   "metadata": {},
   "source": [
    "# 4. What are the values of the following expressions?\n",
    "\n",
    "     (5 > 4) and (3 == 5)\n",
    "     not (5 > 4)\n",
    "     (5 > 4) or (3 == 5)\n",
    "     not ((5 > 4) or (3 == 5))\n",
    "     (True and True) and (True == False)\n",
    "     (not False) or (not True)\n",
    "\n",
    "Ans:\n",
    "\n",
    "    (5 > 4) and (3 == 5)                --> False\n",
    "    not (5 > 4)                         --> False\n",
    "    (5 > 4) or (3 == 5)                 --> True\n",
    "    not ((5 > 4) or (3 == 5))           --> False\n",
    "    (True and True) and (True == False) --> False\n",
    "    (not False) or (not True)           --> True"
   ]
  },
  {
   "cell_type": "code",
   "execution_count": 21,
   "id": "765251e2",
   "metadata": {},
   "outputs": [
    {
     "data": {
      "text/plain": [
       "False"
      ]
     },
     "execution_count": 21,
     "metadata": {},
     "output_type": "execute_result"
    }
   ],
   "source": [
    "(5 > 4) and (3 == 5)"
   ]
  },
  {
   "cell_type": "code",
   "execution_count": 22,
   "id": "82b75b7d",
   "metadata": {},
   "outputs": [
    {
     "data": {
      "text/plain": [
       "False"
      ]
     },
     "execution_count": 22,
     "metadata": {},
     "output_type": "execute_result"
    }
   ],
   "source": [
    "not (5 > 4)  "
   ]
  },
  {
   "cell_type": "code",
   "execution_count": 23,
   "id": "ca25df47",
   "metadata": {},
   "outputs": [
    {
     "data": {
      "text/plain": [
       "True"
      ]
     },
     "execution_count": 23,
     "metadata": {},
     "output_type": "execute_result"
    }
   ],
   "source": [
    "(5 > 4) or (3 == 5)"
   ]
  },
  {
   "cell_type": "code",
   "execution_count": 24,
   "id": "21152066",
   "metadata": {},
   "outputs": [
    {
     "data": {
      "text/plain": [
       "False"
      ]
     },
     "execution_count": 24,
     "metadata": {},
     "output_type": "execute_result"
    }
   ],
   "source": [
    "not ((5 > 4) or (3 == 5))"
   ]
  },
  {
   "cell_type": "code",
   "execution_count": 25,
   "id": "6d67ebde",
   "metadata": {},
   "outputs": [
    {
     "data": {
      "text/plain": [
       "False"
      ]
     },
     "execution_count": 25,
     "metadata": {},
     "output_type": "execute_result"
    }
   ],
   "source": [
    "(True and True) and (True == False)"
   ]
  },
  {
   "cell_type": "code",
   "execution_count": 26,
   "id": "e0529d2a",
   "metadata": {},
   "outputs": [
    {
     "data": {
      "text/plain": [
       "True"
      ]
     },
     "execution_count": 26,
     "metadata": {},
     "output_type": "execute_result"
    }
   ],
   "source": [
    "(not False) or (not True)"
   ]
  },
  {
   "cell_type": "markdown",
   "id": "92743ae8",
   "metadata": {},
   "source": [
    "# 5. What are the six comparison operators?\n",
    "\n",
    "Ans:\n",
    "\n",
    "    Six comparison operators are: \n",
    "    equal to(==), not equal to(!=), greater than(>), greater than or equal to(>=), less than(<), and \n",
    "    less than or equal to(<=)."
   ]
  },
  {
   "cell_type": "markdown",
   "id": "ff6496d7",
   "metadata": {},
   "source": [
    "# 6. How do you tell the difference between the equal to and assignment operators?Describe a condition and when you would use one.\n",
    "\n",
    "Ans:\n",
    "\n",
    "    Assignment operator = is used to assign value/data to a variable but Comparison operator equal to (==) is used to check whether the specific value is assigned to the variable or not.\n",
    "    For Ex:"
   ]
  },
  {
   "cell_type": "code",
   "execution_count": 17,
   "id": "1ef37802",
   "metadata": {},
   "outputs": [],
   "source": [
    "a, b = 'Rob', 'Marley'\n",
    "# Here 'Rob' and 'Marley' are values which are assigned to variables a & b respectively with the help of assignment operator = ."
   ]
  },
  {
   "cell_type": "code",
   "execution_count": 59,
   "id": "d787ec01",
   "metadata": {},
   "outputs": [
    {
     "name": "stdout",
     "output_type": "stream",
     "text": [
      "Values in second condition are correct\n"
     ]
    }
   ],
   "source": [
    "if a == 'rob' and b == 'marley':\n",
    "    print('Values in first condition are correct')\n",
    "elif a == 'Rob' and b == 'Marley':\n",
    "    print('Values in second condition are correct')\n",
    "else:\n",
    "    print('Incorrect values')\n",
    "# Here comparison operator == is used to check whether the conditions stated above are True or False. Whichever condition is True, the body of that statement will be the output."
   ]
  },
  {
   "cell_type": "markdown",
   "id": "315fb3e8",
   "metadata": {},
   "source": [
    "# 7. Identify the three blocks in this code:\n",
    "    spam = 0\n",
    "    if spam == 10:\n",
    "    print('eggs')\n",
    "    if spam > 5:\n",
    "    print('bacon')\n",
    "    else:\n",
    "    print('ham')\n",
    "    print('spam')\n",
    "    print('spam')\n",
    "\n",
    "Ans:"
   ]
  },
  {
   "cell_type": "code",
   "execution_count": 28,
   "id": "753913b8",
   "metadata": {},
   "outputs": [
    {
     "name": "stdout",
     "output_type": "stream",
     "text": [
      "ham\n",
      "spam\n",
      "spam\n"
     ]
    }
   ],
   "source": [
    "spam = 0 #1st Block\n",
    "\n",
    "if spam == 10: #2nd Block\n",
    "    print('eggs')\n",
    "    \n",
    "if spam > 5: #3rd Block\n",
    "    print('bacon')\n",
    "else:\n",
    "    print('ham')\n",
    "    print('spam')\n",
    "    print('spam')\n"
   ]
  },
  {
   "cell_type": "markdown",
   "id": "a6889f50",
   "metadata": {},
   "source": [
    "# 8. Write code that prints Hello if 1 is stored in spam, prints Howdy if 2 is stored in spam, and prints Greetings! if anything else is stored in spam."
   ]
  },
  {
   "cell_type": "code",
   "execution_count": 32,
   "id": "ab14b4db",
   "metadata": {},
   "outputs": [
    {
     "name": "stdout",
     "output_type": "stream",
     "text": [
      "Please enter a number: 1\n",
      "Hello\n"
     ]
    }
   ],
   "source": [
    "spam = int(input('Please enter a number: '))\n",
    "\n",
    "if spam == 1:\n",
    "    print('Hello')\n",
    "elif spam == 2:\n",
    "    print('Howdy')\n",
    "else:\n",
    "    print('Greetings!')"
   ]
  },
  {
   "cell_type": "markdown",
   "id": "6ebb4367",
   "metadata": {},
   "source": [
    "# 9.If your programme is stuck in an endless loop, what keys you’ll press?\n",
    "\n",
    "Ans:\n",
    "\n",
    "    To stop the endless loop of the programme we must interrupt the kernel. To interrupt the kernel, click anywhere on the console and press i,i. \n",
    "    In Jupyter Notebook to stop the loop, click on the square button in the menu ribbon or click on Kernel in menu ribbon and select interrupt from slide-down option."
   ]
  },
  {
   "cell_type": "markdown",
   "id": "333f43b3",
   "metadata": {},
   "source": [
    "# 10. How can you tell the difference between break and continue?\n",
    "\n",
    "Ans:"
   ]
  },
  {
   "cell_type": "code",
   "execution_count": 54,
   "id": "5e1c2b98",
   "metadata": {},
   "outputs": [
    {
     "name": "stdout",
     "output_type": "stream",
     "text": [
      "0\n",
      "1\n",
      "2\n",
      "3\n"
     ]
    }
   ],
   "source": [
    "# break\n",
    "\n",
    "for i in range(7):\n",
    "    if i == 4:\n",
    "        break\n",
    "    print(i)\n",
    "        \n",
    "# break causes the programme to stop and exit out of the loop automatically when the condition is fulfilled.\n",
    "# Here the loop will stop when i == 4."
   ]
  },
  {
   "cell_type": "code",
   "execution_count": 55,
   "id": "daa44956",
   "metadata": {},
   "outputs": [
    {
     "name": "stdout",
     "output_type": "stream",
     "text": [
      "0\n",
      "1\n",
      "2\n",
      "3\n",
      "5\n",
      "6\n"
     ]
    }
   ],
   "source": [
    "# continue\n",
    "\n",
    "for i in range(7):\n",
    "    if i == 4:\n",
    "        continue\n",
    "    print(i)\n",
    "\n",
    "# when the condition is fulfilled the continue will cause the programme to skip that step and transfer the control to the loop again.\n",
    "# Here the programme will print all the numbers from 0-6 except 4."
   ]
  },
  {
   "cell_type": "markdown",
   "id": "ec5ed03d",
   "metadata": {},
   "source": [
    "# 11. In a for loop, what is the difference between range(10), range(0, 10), and range(0, 10, 1)?\n",
    "\n",
    "Ans: \n",
    "       \n",
    "         There is no difference in range(10), range(0,10) and range(0,10,1) because range takes 0 as starting point and 1 as step size by default."
   ]
  },
  {
   "cell_type": "code",
   "execution_count": 51,
   "id": "53478727",
   "metadata": {},
   "outputs": [
    {
     "name": "stdout",
     "output_type": "stream",
     "text": [
      "0\n",
      "1\n",
      "2\n",
      "3\n",
      "4\n",
      "5\n",
      "6\n",
      "7\n",
      "8\n",
      "9\n"
     ]
    }
   ],
   "source": [
    "for i in range(10):\n",
    "    print(i)"
   ]
  },
  {
   "cell_type": "code",
   "execution_count": 52,
   "id": "8fa093fe",
   "metadata": {},
   "outputs": [
    {
     "name": "stdout",
     "output_type": "stream",
     "text": [
      "0\n",
      "1\n",
      "2\n",
      "3\n",
      "4\n",
      "5\n",
      "6\n",
      "7\n",
      "8\n",
      "9\n"
     ]
    }
   ],
   "source": [
    "for i in range(0,10):\n",
    "    print(i)"
   ]
  },
  {
   "cell_type": "code",
   "execution_count": 53,
   "id": "7f213f4b",
   "metadata": {},
   "outputs": [
    {
     "name": "stdout",
     "output_type": "stream",
     "text": [
      "0\n",
      "1\n",
      "2\n",
      "3\n",
      "4\n",
      "5\n",
      "6\n",
      "7\n",
      "8\n",
      "9\n"
     ]
    }
   ],
   "source": [
    "for i in range(0,10,1):\n",
    "    print(i)"
   ]
  },
  {
   "cell_type": "markdown",
   "id": "556c3068",
   "metadata": {},
   "source": [
    "# 12. Write a short program that prints the numbers 1 to 10 using a for loop. Then write an equivalent program that prints the numbers 1 to 10 using a while loop."
   ]
  },
  {
   "cell_type": "code",
   "execution_count": 56,
   "id": "aa50aff8",
   "metadata": {},
   "outputs": [
    {
     "name": "stdout",
     "output_type": "stream",
     "text": [
      "1\n",
      "2\n",
      "3\n",
      "4\n",
      "5\n",
      "6\n",
      "7\n",
      "8\n",
      "9\n",
      "10\n"
     ]
    }
   ],
   "source": [
    "# for loop\n",
    "\n",
    "for i in range(1,11):\n",
    "    print(i)"
   ]
  },
  {
   "cell_type": "code",
   "execution_count": 58,
   "id": "fec8718b",
   "metadata": {},
   "outputs": [
    {
     "name": "stdout",
     "output_type": "stream",
     "text": [
      "1\n",
      "2\n",
      "3\n",
      "4\n",
      "5\n",
      "6\n",
      "7\n",
      "8\n",
      "9\n",
      "10\n"
     ]
    }
   ],
   "source": [
    "# while loop\n",
    "\n",
    "i = 1\n",
    "j = 10\n",
    "\n",
    "while i <= j:\n",
    "    print(i)\n",
    "    i += 1"
   ]
  },
  {
   "cell_type": "markdown",
   "id": "866a4d2d",
   "metadata": {},
   "source": [
    "# 13. If you had a function named bacon() inside a module named spam, how would you call it after importing spam?\n",
    "\n",
    "Ans:\n",
    "\n",
    "    import spam\n",
    "    x = spam.bacon()"
   ]
  },
  {
   "cell_type": "code",
   "execution_count": null,
   "id": "580f0749",
   "metadata": {},
   "outputs": [],
   "source": []
  }
 ],
 "metadata": {
  "kernelspec": {
   "display_name": "Python 3 (ipykernel)",
   "language": "python",
   "name": "python3"
  },
  "language_info": {
   "codemirror_mode": {
    "name": "ipython",
    "version": 3
   },
   "file_extension": ".py",
   "mimetype": "text/x-python",
   "name": "python",
   "nbconvert_exporter": "python",
   "pygments_lexer": "ipython3",
   "version": "3.9.7"
  }
 },
 "nbformat": 4,
 "nbformat_minor": 5
}
